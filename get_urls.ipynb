{
 "cells": [
  {
   "cell_type": "code",
   "execution_count": 22,
   "id": "7b905bf0",
   "metadata": {},
   "outputs": [],
   "source": [
    "import numpy\n",
    "import re\n",
    "import os\n",
    "import urllib.request\n",
    "from urllib.request import urlopen#用于获取网页\n",
    "from bs4 import BeautifulSoup#用于解析网页"
   ]
  },
  {
   "cell_type": "code",
   "execution_count": 23,
   "id": "5942fec8",
   "metadata": {},
   "outputs": [],
   "source": [
    "def create_save_html(url):\n",
    "    temp=url.split('/',-1)\n",
    "    file_url_names=temp[-1]+'-url-list.txt'\n",
    "    return file_url_names"
   ]
  },
  {
   "cell_type": "code",
   "execution_count": 24,
   "id": "ed7cec45",
   "metadata": {},
   "outputs": [],
   "source": [
    "url='https://github.com/52CV/CVPR-2020-Papers'##To Do"
   ]
  },
  {
   "cell_type": "code",
   "execution_count": 25,
   "id": "e7fc02f3",
   "metadata": {},
   "outputs": [],
   "source": [
    "file_url_names=create_save_html(url)"
   ]
  },
  {
   "cell_type": "code",
   "execution_count": 26,
   "id": "c002e8ba",
   "metadata": {
    "scrolled": true
   },
   "outputs": [],
   "source": [
    "html=urlopen(url)\n",
    "bsObj = BeautifulSoup(html, 'html.parser')"
   ]
  },
  {
   "cell_type": "code",
   "execution_count": 27,
   "id": "245a0688",
   "metadata": {},
   "outputs": [],
   "source": [
    "pdf_url_names=bsObj.find_all('a')"
   ]
  },
  {
   "cell_type": "code",
   "execution_count": 28,
   "id": "e67ff7bf",
   "metadata": {},
   "outputs": [],
   "source": [
    "i=0\n",
    "for url_name in pdf_url_names:\n",
    "    paper_url= url_name.get('href')\n",
    "    paper_name=url_name.string\n",
    "    \n",
    "    if paper_name==None:\n",
    "        paper_name=str(i)+\"NONE!\"\n",
    "            \n",
    "    if paper_url!=None:    \n",
    "        save_file=open(file_url_names,'a')\n",
    "        save_file.write(paper_url+'\\t'+paper_name+'\\n')              \n",
    "    save_file.close()\n"
   ]
  },
  {
   "cell_type": "code",
   "execution_count": null,
   "id": "9554f21a",
   "metadata": {},
   "outputs": [],
   "source": []
  }
 ],
 "metadata": {
  "kernelspec": {
   "display_name": "Python [conda env:paper_download]",
   "language": "python",
   "name": "conda-env-paper_download-py"
  },
  "language_info": {
   "codemirror_mode": {
    "name": "ipython",
    "version": 3
   },
   "file_extension": ".py",
   "mimetype": "text/x-python",
   "name": "python",
   "nbconvert_exporter": "python",
   "pygments_lexer": "ipython3",
   "version": "3.6.13"
  }
 },
 "nbformat": 4,
 "nbformat_minor": 5
}
