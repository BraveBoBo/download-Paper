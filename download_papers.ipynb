{
 "cells": [
  {
   "cell_type": "code",
   "execution_count": 74,
   "id": "86174492",
   "metadata": {},
   "outputs": [],
   "source": [
    "import numpy\n",
    "import re\n",
    "import os\n",
    "import shutil\n",
    "import urllib.request\n",
    "from urllib.request import urlopen#用于获取网页\n",
    "from bs4 import BeautifulSoup#用于解析网页"
   ]
  },
  {
   "cell_type": "code",
   "execution_count": 75,
   "id": "fc9f84a2",
   "metadata": {},
   "outputs": [],
   "source": [
    "def loadData(filename):\n",
    "    handlefile=open(filename,'r')\n",
    "    urls,paper_names=[],[]\n",
    "    for line in handlefile:\n",
    "        urlsAndnames=line.split('\\t')\n",
    "        urls.append(urlsAndnames[0])\n",
    "        paper_names.append(urlsAndnames[1])\n",
    "    return urls,paper_names\n",
    "    "
   ]
  },
  {
   "cell_type": "code",
   "execution_count": 76,
   "id": "fb3c7dd7",
   "metadata": {},
   "outputs": [],
   "source": [
    "def replace_url(original_website):\n",
    "    repalce_str='cn.arxiv.org'\n",
    "    aim_str='arxiv.org'\n",
    "    if original_website.find(aim_str)!=-1:\n",
    "        original_website=original_website.replace('https://'+aim_str,repalce_str)\n",
    "    return original_website"
   ]
  },
  {
   "cell_type": "code",
   "execution_count": 77,
   "id": "52ea2b58",
   "metadata": {},
   "outputs": [],
   "source": [
    "def get_url_pdf(url):\n",
    "    paper_object = BeautifulSoup(urlopen(url), 'html.parser',from_encoding=\"iso-8859-1\")\n",
    "    a_handles=paper_object.find_all('a')\n",
    "    for a_handle in a_handles:\n",
    "        a_href=a_handle.get('href')\n",
    "        a_text=a_handle.string\n",
    "        if a_text=='PDF':\n",
    "            download_url='https://arxiv.org'+a_href+'.pdf'\n",
    "            break\n",
    "    return download_url"
   ]
  },
  {
   "cell_type": "code",
   "execution_count": 78,
   "id": "6c77077c",
   "metadata": {},
   "outputs": [],
   "source": [
    "def get_file(paperUrl,paperName,path):\n",
    "    html=urlopen(paperUrl,timeout=30)\n",
    "    file_dir=path+'\\\\'+paperName\n",
    "    f=open(file_dir,'wb')\n",
    "    buffer=html.read()\n",
    "    f.write(buffer)\n",
    "    f.close()\n",
    "    print(paperName+' '+'Download Successfully')\n",
    "    print('paper url is'+' '+paperUrl)\n",
    "    #将文件存到path中\n",
    "    print('Save successfully!')\n",
    "    print('\\n')\n",
    "    \n",
    "    "
   ]
  },
  {
   "cell_type": "code",
   "execution_count": 79,
   "id": "74021213",
   "metadata": {},
   "outputs": [],
   "source": [
    "def get_paper_name(paper_name):\n",
    "    temp=paper_name.split('\\n',-1)\n",
    "    filename=temp[0]+'.pdf'\n",
    "    if filename.find(':'):\n",
    "        filename=filename.replace(':','_')\n",
    "    if filename.find('?'):\n",
    "        filename=filename.replace('?','_')\n",
    "    return filename"
   ]
  },
  {
   "cell_type": "code",
   "execution_count": 80,
   "id": "325bfde4",
   "metadata": {},
   "outputs": [],
   "source": [
    "def pdfOrother(url):\n",
    "    aim_str='.pdf'\n",
    "    if url.find(aim_str)!=-1:\n",
    "        return True\n",
    "    else:\n",
    "        return False"
   ]
  },
  {
   "cell_type": "code",
   "execution_count": 81,
   "id": "e5a937c4",
   "metadata": {},
   "outputs": [],
   "source": [
    "def makedir(path):#创建储存文件的文件夹\n",
    "    folddir=os.path.exists(path)\n",
    "    if  not folddir:\n",
    "        os.makedirs(path)\n",
    "        print('Make Successfully')\n",
    "    else:\n",
    "        print('This dir has existed')\n",
    "    return path\n",
    "        \n",
    "    "
   ]
  },
  {
   "cell_type": "code",
   "execution_count": 82,
   "id": "4b2b95af",
   "metadata": {},
   "outputs": [],
   "source": [
    "filename='D:\\Files\\python\\paper_download\\CVPR-2021-Papers-url-list.txt'###To Do\n",
    "urls,paper_names=loadData(filename)\n",
    "path=\"C:\\\\Users\\\\19117\\\\Desktop\\\\paper\\\\CVPR-2021-Papers\"###To Do\n"
   ]
  },
  {
   "cell_type": "code",
   "execution_count": 83,
   "id": "3a26e0b1",
   "metadata": {},
   "outputs": [
    {
     "name": "stdout",
     "output_type": "stream",
     "text": [
      "This dir has existed\n",
      "Fourier Contour Embedding for Arbitrary-Shaped Text Detection.pdf Download Successfully\n",
      "paper url is https://arxiv.org/pdf/2104.10442.pdf\n",
      "Save successfully!\n",
      "\n",
      "\n",
      "Implicit Feature Alignment_ Learn to Convert Text Recognizer to Text Spotter.pdf Download Successfully\n",
      "paper url is https://arxiv.org/pdf/2106.05920.pdf\n",
      "Save successfully!\n",
      "\n",
      "\n",
      "Sequence-to-Sequence Contrastive Learning for Text Recognition.pdf Download Successfully\n",
      "paper url is https://arxiv.org/pdf/2012.10873.pdf\n",
      "Save successfully!\n",
      "\n",
      "\n",
      "A Multiplexed Network for End-to-End, Multilingual OCR.pdf Download Successfully\n",
      "paper url is https://arxiv.org/pdf/2103.15992.pdf\n",
      "Save successfully!\n",
      "\n",
      "\n",
      "TAP_ Text-Aware Pre-Training for Text-VQA and Text-Caption.pdf Download Successfully\n",
      "paper url is https://arxiv.org/pdf/2012.04638.pdf\n",
      "Save successfully!\n",
      "\n",
      "\n",
      "What If We Only Use Real Datasets for Scene Text Recognition_ Toward Scene Text Recognition With Fewer Labels.pdf Download Successfully\n",
      "paper url is https://arxiv.org/pdf/2103.04400.pdf\n",
      "Save successfully!\n",
      "\n",
      "\n",
      "Read Like Humans_ Autonomous, Bidirectional and Iterative Language Modeling for Scene Text Recognition.pdf Download Successfully\n",
      "paper url is https://arxiv.org/pdf/2103.06495.pdf\n",
      "Save successfully!\n",
      "\n",
      "\n",
      "MOST_ A Multi-Oriented Scene Text Detector with Localization Refinement.pdf Download Successfully\n",
      "paper url is https://arxiv.org/pdf/2104.01070.pdf\n",
      "Save successfully!\n",
      "\n",
      "\n",
      "Scene Text Retrieval via Joint Text Detection and Similarity Learning.pdf Download Successfully\n",
      "paper url is https://arxiv.org/pdf/2104.01552.pdf\n",
      "Save successfully!\n",
      "\n",
      "\n",
      "TextOCR_ Towards large-scale end-to-end reasoning for arbitrary-shaped scene text.pdf Download Successfully\n",
      "paper url is https://arxiv.org/pdf/2105.05486.pdf\n",
      "Save successfully!\n",
      "\n",
      "\n",
      "Progressive Contour Regression for Arbitrary-Shape Scene Text Detection.pdf Download Successfully\n",
      "paper url is https://openaccess.thecvf.com/content/CVPR2021/papers/Dai_Progressive_Contour_Regression_for_Arbitrary-Shape_Scene_Text_Detection_CVPR_2021_paper.pdf\n",
      "Save successfully!\n",
      "\n",
      "\n",
      "Dictionary-guided Scene Text Recognition.pdf Download Successfully\n",
      "paper url is https://openaccess.thecvf.com/content/CVPR2021/papers/Nguyen_Dictionary-Guided_Scene_Text_Recognition_CVPR_2021_paper.pdf\n",
      "Save successfully!\n",
      "\n",
      "\n",
      "Primitive Representation Learning for Scene Text Recognition.pdf Download Successfully\n",
      "paper url is https://arxiv.org/pdf/2105.04286.pdf\n",
      "Save successfully!\n",
      "\n",
      "\n",
      "MetaHTR_ Towards Writer-Adaptive Handwritten Text Recognition.pdf Download Successfully\n",
      "paper url is https://arxiv.org/pdf/2104.01876.pdf\n",
      "Save successfully!\n",
      "\n",
      "\n",
      "Rethinking Text Segmentation_ A Novel Dataset and a Text-Specific Refinement Approach.pdf Download Successfully\n",
      "paper url is https://arxiv.org/pdf/2011.14021.pdf\n",
      "Save successfully!\n",
      "\n",
      "\n",
      "Semantic-Aware Video Text Detection.pdf Download Successfully\n",
      "paper url is https://openaccess.thecvf.com/content/CVPR2021/papers/Feng_Semantic-Aware_Video_Text_Detection_CVPR_2021_paper.pdf\n",
      "Save successfully!\n",
      "\n",
      "\n",
      "Self-Attention Based Text Knowledge Mining for Text Detection.pdf Download Successfully\n",
      "paper url is https://openaccess.thecvf.com/content/CVPR2021/papers/Wan_Self-Attention_Based_Text_Knowledge_Mining_for_Text_Detection_CVPR_2021_paper.pdf\n",
      "Save successfully!\n",
      "\n",
      "\n",
      "Total number is {} 17\n",
      "Download End!\n"
     ]
    }
   ],
   "source": [
    "makedir(path)\n",
    "numberPapers=len(urls)\n",
    "k=0\n",
    "for k in range(numberPapers):\n",
    "    #生成文件名\n",
    "    paperName=get_paper_name(paper_names[k])\n",
    "    \n",
    "    #生成下载的url\n",
    "    #判断文件是否是.pdf类型文件\n",
    "    paper_kind=pdfOrother(urls[k])\n",
    "    \n",
    "    if paper_kind:#如果是 .pdf 后缀直接下载\n",
    "        paperUrl=urls[k]\n",
    "    else:#后缀没有pdf 需要进行url的生成操作\n",
    "        paperUrl=get_url_pdf(urls[k])\n",
    "    get_file(paperUrl,paperName,path)\n",
    "print('Total number is f'{k+1}')\n",
    "print('Download End!')"
   ]
  },
  {
   "cell_type": "code",
   "execution_count": null,
   "id": "fd59fb79",
   "metadata": {},
   "outputs": [],
   "source": []
  }
 ],
 "metadata": {
  "kernelspec": {
   "display_name": "Python [conda env:paper_download]",
   "language": "python",
   "name": "conda-env-paper_download-py"
  },
  "language_info": {
   "codemirror_mode": {
    "name": "ipython",
    "version": 3
   },
   "file_extension": ".py",
   "mimetype": "text/x-python",
   "name": "python",
   "nbconvert_exporter": "python",
   "pygments_lexer": "ipython3",
   "version": "3.6.13"
  }
 },
 "nbformat": 4,
 "nbformat_minor": 5
}
